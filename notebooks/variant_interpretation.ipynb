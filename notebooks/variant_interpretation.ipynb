{
 "cells": [
  {
   "cell_type": "markdown",
   "id": "b2c64ca6",
   "metadata": {},
   "source": [
    "# This lab contains exercises for the Variant Interpretation Lab held on November 20th, 2024 during the CSHL Advanced Sequencing Technologies & Bioinformatics Analysis course"
   ]
  },
  {
   "cell_type": "markdown",
   "id": "903f6855",
   "metadata": {},
   "source": [
    "## First let's import `civicpy` and load the cache"
   ]
  },
  {
   "cell_type": "code",
   "execution_count": null,
   "id": "70a5226e",
   "metadata": {},
   "outputs": [],
   "source": [
    "from civicpy import civic\n",
    "civic.load_cache(\"../data/cache.pkl\", on_stale=\"ignore\")"
   ]
  },
  {
   "cell_type": "markdown",
   "id": "86f17303",
   "metadata": {},
   "source": [
    "## Great, we're ready to begin! Let's continue with our BRAF V600E example. Run the following cell below:"
   ]
  },
  {
   "cell_type": "code",
   "execution_count": null,
   "id": "8d6901c8",
   "metadata": {},
   "outputs": [],
   "source": [
    "query = civic.CoordinateQuery(chr='7', start=140453135, stop=140453137, build=\"GRCh37\")\n",
    "variant_list = civic.search_variants_by_coordinates(coordinate_query=query)\n",
    "variant_list"
   ]
  },
  {
   "cell_type": "markdown",
   "id": "db4cf27b",
   "metadata": {},
   "source": [
    "### 1. How many variant records do you see? What is the query that you just ran?"
   ]
  },
  {
   "cell_type": "markdown",
   "id": "1d1a2edf",
   "metadata": {},
   "source": [
    "*Type Answer*:"
   ]
  },
  {
   "cell_type": "markdown",
   "id": "e683604a",
   "metadata": {},
   "source": [
    "## We would now like to query the same genomic range using assertions as opposed to variants. Run the following cell:"
   ]
  },
  {
   "cell_type": "code",
   "execution_count": null,
   "id": "b81404b3",
   "metadata": {},
   "outputs": [],
   "source": [
    "query = civic.CoordinateQuery(chr='7', start=140453135, stop=140453137, build=\"GRCh37\")\n",
    "assertion_list = civic.search_assertions_by_coordinates(coordinates=query)\n",
    "assertion_list"
   ]
  },
  {
   "cell_type": "markdown",
   "id": "c11003f0",
   "metadata": {},
   "source": [
    "### 2. How many assertions do you see?"
   ]
  },
  {
   "cell_type": "markdown",
   "id": "b484d04a",
   "metadata": {},
   "source": [
    "*Type answer*:"
   ]
  },
  {
   "cell_type": "markdown",
   "id": "d44aba48",
   "metadata": {},
   "source": [
    "## Choose an assertion from the list and view its corresponding attributes using the following command:"
   ]
  },
  {
   "cell_type": "code",
   "execution_count": null,
   "id": "ac856fbc",
   "metadata": {
    "scrolled": true
   },
   "outputs": [],
   "source": [
    "assertion_list[0].__dict__ # Replace 0 with the item of your choosing in the assertion list"
   ]
  },
  {
   "cell_type": "markdown",
   "id": "65d4757f",
   "metadata": {},
   "source": [
    "### Summarize what you see in the dictionary. How can this assertion item be used to interpret a variant?"
   ]
  },
  {
   "cell_type": "markdown",
   "id": "3ee5aac7",
   "metadata": {},
   "source": [
    "*Type Answer*:"
   ]
  }
 ],
 "metadata": {
  "kernelspec": {
   "display_name": "Python 3 (ipykernel)",
   "language": "python",
   "name": "python3"
  },
  "language_info": {
   "codemirror_mode": {
    "name": "ipython",
    "version": 3
   },
   "file_extension": ".py",
   "mimetype": "text/x-python",
   "name": "python",
   "nbconvert_exporter": "python",
   "pygments_lexer": "ipython3",
   "version": "3.11.7"
  }
 },
 "nbformat": 4,
 "nbformat_minor": 5
}
